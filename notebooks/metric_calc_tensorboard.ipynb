{
 "cells": [
  {
   "cell_type": "code",
   "execution_count": 9,
   "id": "77d3bc34-ec86-4d5a-8e7d-b015be1979f9",
   "metadata": {
    "tags": []
   },
   "outputs": [
    {
     "name": "stdout",
     "output_type": "stream",
     "text": [
      "Loaded 30 TensorBoard runs with 13 scalars and 101 steps each\n",
      "train_f1_epoch, train_prec_epoch, train_acc_epoch, train_rec_epoch, val_f1_epoch, val_prec_epoch, val_acc_epoch, val_rec_epoch, epoch, test_acc_epoch, test_f1_epoch, test_prec_epoch, test_rec_epoch\n",
      "Writing 'mean' reduction to '../out/analysis/tensorboard/blocked_reduced/vit_pose/-mean'\n",
      "Writing 'min' reduction to '../out/analysis/tensorboard/blocked_reduced/vit_pose/-min'\n",
      "Writing 'max' reduction to '../out/analysis/tensorboard/blocked_reduced/vit_pose/-max'\n",
      "Writing 'median' reduction to '../out/analysis/tensorboard/blocked_reduced/vit_pose/-median'\n",
      "Writing 'std' reduction to '../out/analysis/tensorboard/blocked_reduced/vit_pose/-std'\n",
      "Writing 'var' reduction to '../out/analysis/tensorboard/blocked_reduced/vit_pose/-var'\n",
      "Writing results to '../out/analysis/csv/blocked_csvs/vit_pose.csv'\n",
      "Reduction complete\n"
     ]
    }
   ],
   "source": [
    "from glob import glob\n",
    "\n",
    "import tensorboard_reducer as tbr\n",
    "\n",
    "input_event_dirs = sorted(glob(\"../out/analysis/tensorboard/blocked_test/vit_pose/2023*/*\"))\n",
    "# where to write reduced TB events, each reduce operation will be in a separate subdirectory\n",
    "tb_events_output_dir = \"../out/analysis/tensorboard/blocked_reduced/vit_pose/\"\n",
    "csv_out_path = \"../out/analysis/csv/blocked_csvs/vit_pose.csv\"\n",
    "# whether to abort or overwrite when csv_out_path already exists\n",
    "overwrite = False\n",
    "reduce_ops = (\"mean\", \"min\", \"max\", \"median\", \"std\", \"var\")\n",
    "\n",
    "events_dict = tbr.load_tb_events(input_event_dirs, handle_dup_steps='mean')\n",
    "\n",
    "# number of recorded tags. e.g. would be 3 if you recorded loss, MAE and R^2\n",
    "n_scalars = len(events_dict)\n",
    "n_steps, n_events = list(events_dict.values())[0].shape\n",
    "\n",
    "print(\n",
    "    f\"Loaded {n_events} TensorBoard runs with {n_scalars} scalars and {n_steps} steps each\"\n",
    ")\n",
    "print(\", \".join(events_dict))\n",
    "\n",
    "reduced_events = tbr.reduce_events(events_dict, reduce_ops)\n",
    "\n",
    "for op in reduce_ops:\n",
    "    print(f\"Writing '{op}' reduction to '{tb_events_output_dir}-{op}'\")\n",
    "\n",
    "tbr.write_tb_events(reduced_events, tb_events_output_dir, overwrite)\n",
    "\n",
    "print(f\"Writing results to '{csv_out_path}'\")\n",
    "\n",
    "tbr.write_data_file(reduced_events, csv_out_path, overwrite)\n",
    "\n",
    "print(\"Reduction complete\")"
   ]
  },
  {
   "cell_type": "code",
   "execution_count": null,
   "id": "6119c2c4-4ad2-4f3d-b474-5bb5c05f3ee8",
   "metadata": {},
   "outputs": [],
   "source": []
  }
 ],
 "metadata": {
  "kernelspec": {
   "display_name": "Tensorflow-2.7.0",
   "language": "python",
   "name": "tensorflow-2.7.0"
  },
  "language_info": {
   "codemirror_mode": {
    "name": "ipython",
    "version": 3
   },
   "file_extension": ".py",
   "mimetype": "text/x-python",
   "name": "python",
   "nbconvert_exporter": "python",
   "pygments_lexer": "ipython3",
   "version": "3.9.12"
  }
 },
 "nbformat": 4,
 "nbformat_minor": 5
}
